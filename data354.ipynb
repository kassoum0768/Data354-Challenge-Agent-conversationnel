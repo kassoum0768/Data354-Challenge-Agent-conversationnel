{
 "cells": [
  {
   "cell_type": "markdown",
   "metadata": {},
   "source": [
    "# 🏆 Hiring Challenge : Construction D’un Agent Conversationnel Spécialisé 🤖  \n",
    "\n",
    "## 📌 Objectif  \n",
    "Nous devons construire un agent conversationnel capable de répondre aux questions sur des documents spécifiques.  \n",
    "\n",
    "## 📂 Source des données  \n",
    "Les données proviennent du site **Ecofin** et sont constituées des articles publiés au cours de la dernière semaine.  \n",
    "\n",
    "- **Site web source :** [Ecofin](https://www.agenceecofin.com/) 🌍  \n",
    "- **Période des données extraites :** **22 janvier 2024 - 28 janvier 2024 ** 📅  \n",
    "\n",
    "## 🚀 Tâches à réaliser  \n",
    "1. **Scraper** 🕵️ les articles publiés sur Ecofin entre le **22/01/2024 et le 28/01/2024**.  \n",
    "2. **Traiter** 🔍 les données extraites (nettoyage, structuration, vectorisation).  \n",
    "3. **Stocker** 💾 ces informations pour une interrogation efficace.  \n",
    "4. **Construire un agent conversationnel** 💬 qui pourra répondre aux questions basées sur ces articles.  \n"
   ]
  },
  {
   "cell_type": "markdown",
   "metadata": {},
   "source": []
  },
  {
   "cell_type": "markdown",
   "metadata": {},
   "source": [
    "# 📰 Scraping des Articles du Site Ecofin 🕵️‍♂️  \n",
    "\n",
    "## 📌 Objectif  \n",
    "Cette section a pour but d'extraire les articles publiés sur le site **Ecofin** au cours de la dernière semaine (**22 janvier 2024 - 28 janvier 2024**).  \n",
    "\n",
    "## ⚙️ Méthodologie  \n",
    "- **Parcours des pages du site** via les liens de pagination.  \n",
    "- **Extraction des articles récents** en filtrant ceux publiés après le **22 janvier 2024**.  \n",
    "- **Stockage des données** sous forme d'un DataFrame contenant :  \n",
    "  - **Titre** de l'article 📌  \n",
    "  - **Date de publication** 📅  \n",
    "  - **Résumé du texte** 📄  \n",
    "  - **Lien vers l'article** 🔗  \n",
    "\n",
    "## 🚀 Lancement du Scraping  \n",
    "Le script parcourt les pages, extrait les données et s'arrête dès qu'il détecte un article plus ancien que la date limite fixée (**22 janvier 2024**).  \n"
   ]
  },
  {
   "cell_type": "code",
   "execution_count": null,
   "metadata": {},
   "outputs": [
    {
     "name": "stdout",
     "output_type": "stream",
     "text": [
      "Scraping : https://www.agenceecofin.com/a-la-une/recherche-article/articles?submit_x=0&submit_y=0&filterTousLesFils=Tous&filterCategories=Sous-rubrique&filterFrench=French&userSearch=1&testlimitstart=147\n",
      "Scraping : https://www.agenceecofin.com//a-la-une/recherche-article/articles?submit_x=0&submit_y=0&filterTousLesFils=Tous&filterCategories=Sous-rubrique&filterFrench=French&userSearch=1&testlimitstart=154\n",
      "Scraping : https://www.agenceecofin.com//a-la-une/recherche-article/articles?submit_x=0&submit_y=0&filterTousLesFils=Tous&filterCategories=Sous-rubrique&filterFrench=French&userSearch=1&testlimitstart=161\n",
      "Scraping : https://www.agenceecofin.com//a-la-une/recherche-article/articles?submit_x=0&submit_y=0&filterTousLesFils=Tous&filterCategories=Sous-rubrique&filterFrench=French&userSearch=1&testlimitstart=168\n",
      "Scraping : https://www.agenceecofin.com//a-la-une/recherche-article/articles?submit_x=0&submit_y=0&filterTousLesFils=Tous&filterCategories=Sous-rubrique&filterFrench=French&userSearch=1&testlimitstart=175\n",
      "Scraping : https://www.agenceecofin.com//a-la-une/recherche-article/articles?submit_x=0&submit_y=0&filterTousLesFils=Tous&filterCategories=Sous-rubrique&filterFrench=French&userSearch=1&testlimitstart=182\n",
      "Scraping : https://www.agenceecofin.com//a-la-une/recherche-article/articles?submit_x=0&submit_y=0&filterTousLesFils=Tous&filterCategories=Sous-rubrique&filterFrench=French&userSearch=1&testlimitstart=189\n",
      "Scraping : https://www.agenceecofin.com//a-la-une/recherche-article/articles?submit_x=0&submit_y=0&filterTousLesFils=Tous&filterCategories=Sous-rubrique&filterFrench=French&userSearch=1&testlimitstart=196\n",
      "Scraping : https://www.agenceecofin.com//a-la-une/recherche-article/articles?submit_x=0&submit_y=0&filterTousLesFils=Tous&filterCategories=Sous-rubrique&filterFrench=French&userSearch=1&testlimitstart=203\n",
      "Scraping : https://www.agenceecofin.com//a-la-une/recherche-article/articles?submit_x=0&submit_y=0&filterTousLesFils=Tous&filterCategories=Sous-rubrique&filterFrench=French&userSearch=1&testlimitstart=210\n",
      "Scraping : https://www.agenceecofin.com//a-la-une/recherche-article/articles?submit_x=0&submit_y=0&filterTousLesFils=Tous&filterCategories=Sous-rubrique&filterFrench=French&userSearch=1&testlimitstart=217\n",
      "Scraping : https://www.agenceecofin.com//a-la-une/recherche-article/articles?submit_x=0&submit_y=0&filterTousLesFils=Tous&filterCategories=Sous-rubrique&filterFrench=French&userSearch=1&testlimitstart=224\n",
      "Scraping : https://www.agenceecofin.com//a-la-une/recherche-article/articles?submit_x=0&submit_y=0&filterTousLesFils=Tous&filterCategories=Sous-rubrique&filterFrench=French&userSearch=1&testlimitstart=231\n",
      "Scraping : https://www.agenceecofin.com//a-la-une/recherche-article/articles?submit_x=0&submit_y=0&filterTousLesFils=Tous&filterCategories=Sous-rubrique&filterFrench=French&userSearch=1&testlimitstart=238\n",
      "Scraping : https://www.agenceecofin.com//a-la-une/recherche-article/articles?submit_x=0&submit_y=0&filterTousLesFils=Tous&filterCategories=Sous-rubrique&filterFrench=French&userSearch=1&testlimitstart=245\n",
      "Scraping : https://www.agenceecofin.com//a-la-une/recherche-article/articles?submit_x=0&submit_y=0&filterTousLesFils=Tous&filterCategories=Sous-rubrique&filterFrench=French&userSearch=1&testlimitstart=252\n",
      "Scraping : https://www.agenceecofin.com//a-la-une/recherche-article/articles?submit_x=0&submit_y=0&filterTousLesFils=Tous&filterCategories=Sous-rubrique&filterFrench=French&userSearch=1&testlimitstart=259\n",
      "Scraping : https://www.agenceecofin.com//a-la-une/recherche-article/articles?submit_x=0&submit_y=0&filterTousLesFils=Tous&filterCategories=Sous-rubrique&filterFrench=French&userSearch=1&testlimitstart=266\n",
      "Scraping : https://www.agenceecofin.com//a-la-une/recherche-article/articles?submit_x=0&submit_y=0&filterTousLesFils=Tous&filterCategories=Sous-rubrique&filterFrench=French&userSearch=1&testlimitstart=273\n",
      "Scraping : https://www.agenceecofin.com//a-la-une/recherche-article/articles?submit_x=0&submit_y=0&filterTousLesFils=Tous&filterCategories=Sous-rubrique&filterFrench=French&userSearch=1&testlimitstart=280\n",
      "Scraping : https://www.agenceecofin.com//a-la-une/recherche-article/articles?submit_x=0&submit_y=0&filterTousLesFils=Tous&filterCategories=Sous-rubrique&filterFrench=French&userSearch=1&testlimitstart=287\n",
      "Scraping : https://www.agenceecofin.com//a-la-une/recherche-article/articles?submit_x=0&submit_y=0&filterTousLesFils=Tous&filterCategories=Sous-rubrique&filterFrench=French&userSearch=1&testlimitstart=294\n",
      "Scraping : https://www.agenceecofin.com//a-la-une/recherche-article/articles?submit_x=0&submit_y=0&filterTousLesFils=Tous&filterCategories=Sous-rubrique&filterFrench=French&userSearch=1&testlimitstart=301\n",
      "Scraping : https://www.agenceecofin.com//a-la-une/recherche-article/articles?submit_x=0&submit_y=0&filterTousLesFils=Tous&filterCategories=Sous-rubrique&filterFrench=French&userSearch=1&testlimitstart=308\n",
      "Scraping : https://www.agenceecofin.com//a-la-une/recherche-article/articles?submit_x=0&submit_y=0&filterTousLesFils=Tous&filterCategories=Sous-rubrique&filterFrench=French&userSearch=1&testlimitstart=315\n",
      "Scraping : https://www.agenceecofin.com//a-la-une/recherche-article/articles?submit_x=0&submit_y=0&filterTousLesFils=Tous&filterCategories=Sous-rubrique&filterFrench=French&userSearch=1&testlimitstart=322\n",
      "Scraping : https://www.agenceecofin.com//a-la-une/recherche-article/articles?submit_x=0&submit_y=0&filterTousLesFils=Tous&filterCategories=Sous-rubrique&filterFrench=French&userSearch=1&testlimitstart=329\n",
      "Scraping : https://www.agenceecofin.com//a-la-une/recherche-article/articles?submit_x=0&submit_y=0&filterTousLesFils=Tous&filterCategories=Sous-rubrique&filterFrench=French&userSearch=1&testlimitstart=336\n",
      "Article hors plage détecté : 21/01/2025. Arrêt du scraping.\n",
      "Arrêt du scraping car un article hors plage a été détecté.\n"
     ]
    }
   ],
   "source": [
    "import requests\n",
    "from bs4 import BeautifulSoup\n",
    "import pandas as pd\n",
    "from datetime import datetime, timedelta\n",
    "\n",
    "# URL de base\n",
    "BASE_URL = \"https://www.agenceecofin.com/\"\n",
    "START_URL = f\"{BASE_URL}a-la-une/recherche-article/articles?submit_x=0&submit_y=0&filterTousLesFils=Tous&filterCategories=Sous-rubrique&filterFrench=French&userSearch=1&testlimitstart=147\"\n",
    "\n",
    "# Initialisation des variables\n",
    "visited_pages = set()\n",
    "\n",
    "# Définir la période (de maintenant à il y a 7 jours)\n",
    "\n",
    "end_date = datetime(2025, 1, 28)  # Date de fin souhaitée\n",
    "start_date = datetime(2025, 1, 22)  # Date de début souhaitée\n",
    "\n",
    "# Fonction pour vérifier si une date est dans l'intervalle spécifié\n",
    "def is_within_date_range(article_date):\n",
    "    try:\n",
    "        article_date = datetime.strptime(article_date, \"%d/%m/%Y\")\n",
    "        return start_date <= article_date <= end_date\n",
    "    except ValueError:\n",
    "        return False\n",
    "\n",
    "# Fonction pour extraire les données des articles sur une page\n",
    "def scrape_page(soup, current_url):\n",
    "    articles = []\n",
    "    stop_scraping = False\n",
    "\n",
    "    # Trouver tous les articles\n",
    "    for h3 in soup.find_all('h3', class_='r'):\n",
    "        a_tag = h3.find('a')\n",
    "        if a_tag and 'href' in a_tag.attrs:\n",
    "            link = BASE_URL + a_tag['href'].lstrip('/')\n",
    "            title = a_tag.text.strip()\n",
    "\n",
    "            # Trouver la date associée à l'article\n",
    "            date_tag = h3.find_next('span', class_='f nsa')\n",
    "            date = date_tag.text.strip() if date_tag else \"Date non disponible\"\n",
    "\n",
    "            # Accéder à l'article pour extraire le texte\n",
    "            article_response = requests.get(link)\n",
    "            article_soup = BeautifulSoup(article_response.content, 'html.parser')\n",
    "\n",
    "            # Extraire le texte des paragraphes dans itemIntroText\n",
    "            text_div = article_soup.find('div', class_='itemIntroText')\n",
    "            paragraphs = text_div.find_all('p') if text_div else []\n",
    "            text = ' '.join([p.text.strip() for p in paragraphs]) if paragraphs else \"Texte non disponible\"\n",
    "\n",
    "            # Vérifier si l'article est dans la plage de dates spécifiée\n",
    "            if is_within_date_range(date):\n",
    "                articles.append({\"title\": title, \"date\": date, \"text\": text, \"page_url\": link})\n",
    "            else:\n",
    "                # Si une date hors plage est trouvée, marquer pour arrêter le scraping\n",
    "                print(f\"Article hors plage détecté : {date}. Arrêt du scraping.\")\n",
    "                stop_scraping = True\n",
    "                break\n",
    "\n",
    "    return articles, stop_scraping\n",
    "\n",
    "# Fonction pour trouver l'URL de la page suivante\n",
    "def get_next_page_url(soup):\n",
    "    pagination_ul = soup.find('ul', class_='pagination')\n",
    "    if not pagination_ul:\n",
    "        return None  # Pas de pagination\n",
    "\n",
    "    li_tags = pagination_ul.find_all('li')\n",
    "    for li in li_tags:\n",
    "        link_tag = li.find('a')\n",
    "        if link_tag and 'Suivant' in link_tag.text:  \n",
    "            next_url = BASE_URL + link_tag['href']\n",
    "            if next_url not in visited_pages:  # Vérifie si la page a déjà été visitée\n",
    "                return next_url\n",
    "\n",
    "    return None\n",
    "\n",
    "# Fonction principale pour parcourir toutes les pages et extraire les données\n",
    "def scrape_all_pages(start_url):\n",
    "    current_url = start_url\n",
    "    all_articles = []\n",
    "\n",
    "    while current_url:\n",
    "        if current_url in visited_pages:\n",
    "            print(f\"Page déjà visitée : {current_url}\")\n",
    "            break\n",
    "\n",
    "        print(f\"Scraping : {current_url}\")\n",
    "        response = requests.get(current_url)\n",
    "        soup = BeautifulSoup(response.content, 'html.parser')\n",
    "\n",
    "        # Ajouter la page à l'ensemble des pages visitées\n",
    "        visited_pages.add(current_url)\n",
    "\n",
    "        # Extraire les articles de la page actuelle\n",
    "        articles, stop_scraping = scrape_page(soup, current_url)\n",
    "        all_articles.extend(articles)\n",
    "\n",
    "        # Arrêter si un article hors plage est détecté\n",
    "        if stop_scraping:\n",
    "            print(\"Arrêt du scraping car un article hors plage a été détecté.\")\n",
    "            break\n",
    "\n",
    "        # Trouver l'URL de la page suivante\n",
    "        next_url = get_next_page_url(soup)\n",
    "        if not next_url or next_url in visited_pages:  # Vérifier si aucune nouvelle page n'est trouvée\n",
    "            print(\"Fin de la pagination.\")\n",
    "            break  # Arrêter si aucune page suivante n'est trouvée\n",
    "\n",
    "        current_url = next_url\n",
    "\n",
    "    return all_articles\n",
    "\n",
    "# Lancer le scraping\n",
    "articles = scrape_all_pages(START_URL)\n",
    "\n"
   ]
  },
  {
   "cell_type": "code",
   "execution_count": 13,
   "metadata": {},
   "outputs": [
    {
     "data": {
      "text/html": [
       "<div>\n",
       "<style scoped>\n",
       "    .dataframe tbody tr th:only-of-type {\n",
       "        vertical-align: middle;\n",
       "    }\n",
       "\n",
       "    .dataframe tbody tr th {\n",
       "        vertical-align: top;\n",
       "    }\n",
       "\n",
       "    .dataframe thead th {\n",
       "        text-align: right;\n",
       "    }\n",
       "</style>\n",
       "<table border=\"1\" class=\"dataframe\">\n",
       "  <thead>\n",
       "    <tr style=\"text-align: right;\">\n",
       "      <th></th>\n",
       "      <th>title</th>\n",
       "      <th>date</th>\n",
       "      <th>text</th>\n",
       "      <th>page_url</th>\n",
       "    </tr>\n",
       "  </thead>\n",
       "  <tbody>\n",
       "    <tr>\n",
       "      <th>0</th>\n",
       "      <td>Sénégal : partenariat entre l’Etat et la CDC p...</td>\n",
       "      <td>28/01/2025</td>\n",
       "      <td>(Agence Ecofin) - Dans le but de soutenir l’ac...</td>\n",
       "      <td>https://www.agenceecofin.com/actualites-numeri...</td>\n",
       "    </tr>\n",
       "    <tr>\n",
       "      <th>1</th>\n",
       "      <td>BGFIBank renforce son engagement envers la con...</td>\n",
       "      <td>28/01/2025</td>\n",
       "      <td>( BGFIBank) - Le Groupe BGFIBank a marqué un t...</td>\n",
       "      <td>https://www.agenceecofin.com/actualites-financ...</td>\n",
       "    </tr>\n",
       "    <tr>\n",
       "      <th>2</th>\n",
       "      <td>Elon Musk, le Sud-Africain</td>\n",
       "      <td>28/01/2025</td>\n",
       "      <td>(Agence Ecofin) - Après ce qu’il décrit comme ...</td>\n",
       "      <td>https://www.agenceecofin.com/whos-who/2801-125...</td>\n",
       "    </tr>\n",
       "    <tr>\n",
       "      <th>3</th>\n",
       "      <td>Bénin : le plan de refonte du système de trans...</td>\n",
       "      <td>28/01/2025</td>\n",
       "      <td>(Agence Ecofin) - En gestation depuis quelques...</td>\n",
       "      <td>https://www.agenceecofin.com/actualites-infras...</td>\n",
       "    </tr>\n",
       "    <tr>\n",
       "      <th>4</th>\n",
       "      <td>Crises humanitaires en Afrique : l'impact du g...</td>\n",
       "      <td>28/01/2025</td>\n",
       "      <td>(Agence Ecofin) - En décembre 2024, les Nation...</td>\n",
       "      <td>https://www.agenceecofin.com/actualites/2801-1...</td>\n",
       "    </tr>\n",
       "  </tbody>\n",
       "</table>\n",
       "</div>"
      ],
      "text/plain": [
       "                                               title        date  \\\n",
       "0  Sénégal : partenariat entre l’Etat et la CDC p...  28/01/2025   \n",
       "1  BGFIBank renforce son engagement envers la con...  28/01/2025   \n",
       "2                         Elon Musk, le Sud-Africain  28/01/2025   \n",
       "3  Bénin : le plan de refonte du système de trans...  28/01/2025   \n",
       "4  Crises humanitaires en Afrique : l'impact du g...  28/01/2025   \n",
       "\n",
       "                                                text  \\\n",
       "0  (Agence Ecofin) - Dans le but de soutenir l’ac...   \n",
       "1  ( BGFIBank) - Le Groupe BGFIBank a marqué un t...   \n",
       "2  (Agence Ecofin) - Après ce qu’il décrit comme ...   \n",
       "3  (Agence Ecofin) - En gestation depuis quelques...   \n",
       "4  (Agence Ecofin) - En décembre 2024, les Nation...   \n",
       "\n",
       "                                            page_url  \n",
       "0  https://www.agenceecofin.com/actualites-numeri...  \n",
       "1  https://www.agenceecofin.com/actualites-financ...  \n",
       "2  https://www.agenceecofin.com/whos-who/2801-125...  \n",
       "3  https://www.agenceecofin.com/actualites-infras...  \n",
       "4  https://www.agenceecofin.com/actualites/2801-1...  "
      ]
     },
     "execution_count": 13,
     "metadata": {},
     "output_type": "execute_result"
    }
   ],
   "source": [
    "# Convertir les articles en DataFrame\n",
    "articles_df = pd.DataFrame(articles)\n",
    "\n",
    "# Afficher le DataFrame des articles\n",
    "articles_df.head()"
   ]
  },
  {
   "cell_type": "code",
   "execution_count": 14,
   "metadata": {},
   "outputs": [
    {
     "data": {
      "text/html": [
       "<div>\n",
       "<style scoped>\n",
       "    .dataframe tbody tr th:only-of-type {\n",
       "        vertical-align: middle;\n",
       "    }\n",
       "\n",
       "    .dataframe tbody tr th {\n",
       "        vertical-align: top;\n",
       "    }\n",
       "\n",
       "    .dataframe thead th {\n",
       "        text-align: right;\n",
       "    }\n",
       "</style>\n",
       "<table border=\"1\" class=\"dataframe\">\n",
       "  <thead>\n",
       "    <tr style=\"text-align: right;\">\n",
       "      <th></th>\n",
       "      <th>title</th>\n",
       "      <th>date</th>\n",
       "      <th>text</th>\n",
       "      <th>page_url</th>\n",
       "    </tr>\n",
       "  </thead>\n",
       "  <tbody>\n",
       "    <tr>\n",
       "      <th>187</th>\n",
       "      <td>Qui est Alino Faso, l’influenceur pro-Burkina ...</td>\n",
       "      <td>22/01/2025</td>\n",
       "      <td>(Agence Ecofin) - Soutien indéfectible du régi...</td>\n",
       "      <td>https://www.agenceecofin.com/whos-who/2201-125...</td>\n",
       "    </tr>\n",
       "    <tr>\n",
       "      <th>188</th>\n",
       "      <td>La montée en puissance de la mine d'or Séguéla...</td>\n",
       "      <td>22/01/2025</td>\n",
       "      <td>(Agence Ecofin) - En Côte d’Ivoire, Fortuna Mi...</td>\n",
       "      <td>https://www.agenceecofin.com/actualites/2201-1...</td>\n",
       "    </tr>\n",
       "    <tr>\n",
       "      <th>189</th>\n",
       "      <td>L'assurtech sud-africaine Naked obtient 38 mil...</td>\n",
       "      <td>22/01/2025</td>\n",
       "      <td>(Agence Ecofin) - Cette opération constitue la...</td>\n",
       "      <td>https://www.agenceecofin.com/actualites-financ...</td>\n",
       "    </tr>\n",
       "    <tr>\n",
       "      <th>190</th>\n",
       "      <td>Nigeria : FCMB reçoit 44 millions $ de Proparc...</td>\n",
       "      <td>22/01/2025</td>\n",
       "      <td>(Agence Ecofin) - L'un des principaux défis au...</td>\n",
       "      <td>https://www.agenceecofin.com/actualites-financ...</td>\n",
       "    </tr>\n",
       "    <tr>\n",
       "      <th>191</th>\n",
       "      <td>Russie-RCA : à Moscou, Faustin-Archange Touadé...</td>\n",
       "      <td>22/01/2025</td>\n",
       "      <td>(Agence Ecofin) - En misant sur des domaines s...</td>\n",
       "      <td>https://www.agenceecofin.com/actualites/2201-1...</td>\n",
       "    </tr>\n",
       "  </tbody>\n",
       "</table>\n",
       "</div>"
      ],
      "text/plain": [
       "                                                 title        date  \\\n",
       "187  Qui est Alino Faso, l’influenceur pro-Burkina ...  22/01/2025   \n",
       "188  La montée en puissance de la mine d'or Séguéla...  22/01/2025   \n",
       "189  L'assurtech sud-africaine Naked obtient 38 mil...  22/01/2025   \n",
       "190  Nigeria : FCMB reçoit 44 millions $ de Proparc...  22/01/2025   \n",
       "191  Russie-RCA : à Moscou, Faustin-Archange Touadé...  22/01/2025   \n",
       "\n",
       "                                                  text  \\\n",
       "187  (Agence Ecofin) - Soutien indéfectible du régi...   \n",
       "188  (Agence Ecofin) - En Côte d’Ivoire, Fortuna Mi...   \n",
       "189  (Agence Ecofin) - Cette opération constitue la...   \n",
       "190  (Agence Ecofin) - L'un des principaux défis au...   \n",
       "191  (Agence Ecofin) - En misant sur des domaines s...   \n",
       "\n",
       "                                              page_url  \n",
       "187  https://www.agenceecofin.com/whos-who/2201-125...  \n",
       "188  https://www.agenceecofin.com/actualites/2201-1...  \n",
       "189  https://www.agenceecofin.com/actualites-financ...  \n",
       "190  https://www.agenceecofin.com/actualites-financ...  \n",
       "191  https://www.agenceecofin.com/actualites/2201-1...  "
      ]
     },
     "execution_count": 14,
     "metadata": {},
     "output_type": "execute_result"
    }
   ],
   "source": [
    "articles_df.tail()"
   ]
  },
  {
   "cell_type": "code",
   "execution_count": 16,
   "metadata": {},
   "outputs": [
    {
     "data": {
      "text/html": [
       "<div>\n",
       "<style scoped>\n",
       "    .dataframe tbody tr th:only-of-type {\n",
       "        vertical-align: middle;\n",
       "    }\n",
       "\n",
       "    .dataframe tbody tr th {\n",
       "        vertical-align: top;\n",
       "    }\n",
       "\n",
       "    .dataframe thead th {\n",
       "        text-align: right;\n",
       "    }\n",
       "</style>\n",
       "<table border=\"1\" class=\"dataframe\">\n",
       "  <thead>\n",
       "    <tr style=\"text-align: right;\">\n",
       "      <th></th>\n",
       "      <th>title</th>\n",
       "      <th>date</th>\n",
       "      <th>text</th>\n",
       "      <th>page_url</th>\n",
       "    </tr>\n",
       "  </thead>\n",
       "  <tbody>\n",
       "    <tr>\n",
       "      <th>0</th>\n",
       "      <td>Sénégal : partenariat entre l’Etat et la CDC p...</td>\n",
       "      <td>28/01/2025</td>\n",
       "      <td>- Dans le but de soutenir l’accélération de s...</td>\n",
       "      <td>https://www.agenceecofin.com/actualites-numeri...</td>\n",
       "    </tr>\n",
       "    <tr>\n",
       "      <th>1</th>\n",
       "      <td>BGFIBank renforce son engagement envers la con...</td>\n",
       "      <td>28/01/2025</td>\n",
       "      <td>( BGFIBank) - Le Groupe BGFIBank a marqué un t...</td>\n",
       "      <td>https://www.agenceecofin.com/actualites-financ...</td>\n",
       "    </tr>\n",
       "    <tr>\n",
       "      <th>2</th>\n",
       "      <td>Elon Musk, le Sud-Africain</td>\n",
       "      <td>28/01/2025</td>\n",
       "      <td>- Après ce qu’il décrit comme un salut de l’E...</td>\n",
       "      <td>https://www.agenceecofin.com/whos-who/2801-125...</td>\n",
       "    </tr>\n",
       "    <tr>\n",
       "      <th>3</th>\n",
       "      <td>Bénin : le plan de refonte du système de trans...</td>\n",
       "      <td>28/01/2025</td>\n",
       "      <td>- En gestation depuis quelques années, les ré...</td>\n",
       "      <td>https://www.agenceecofin.com/actualites-infras...</td>\n",
       "    </tr>\n",
       "    <tr>\n",
       "      <th>4</th>\n",
       "      <td>Crises humanitaires en Afrique : l'impact du g...</td>\n",
       "      <td>28/01/2025</td>\n",
       "      <td>- En décembre 2024, les Nations Unies et leur...</td>\n",
       "      <td>https://www.agenceecofin.com/actualites/2801-1...</td>\n",
       "    </tr>\n",
       "  </tbody>\n",
       "</table>\n",
       "</div>"
      ],
      "text/plain": [
       "                                               title        date  \\\n",
       "0  Sénégal : partenariat entre l’Etat et la CDC p...  28/01/2025   \n",
       "1  BGFIBank renforce son engagement envers la con...  28/01/2025   \n",
       "2                         Elon Musk, le Sud-Africain  28/01/2025   \n",
       "3  Bénin : le plan de refonte du système de trans...  28/01/2025   \n",
       "4  Crises humanitaires en Afrique : l'impact du g...  28/01/2025   \n",
       "\n",
       "                                                text  \\\n",
       "0   - Dans le but de soutenir l’accélération de s...   \n",
       "1  ( BGFIBank) - Le Groupe BGFIBank a marqué un t...   \n",
       "2   - Après ce qu’il décrit comme un salut de l’E...   \n",
       "3   - En gestation depuis quelques années, les ré...   \n",
       "4   - En décembre 2024, les Nations Unies et leur...   \n",
       "\n",
       "                                            page_url  \n",
       "0  https://www.agenceecofin.com/actualites-numeri...  \n",
       "1  https://www.agenceecofin.com/actualites-financ...  \n",
       "2  https://www.agenceecofin.com/whos-who/2801-125...  \n",
       "3  https://www.agenceecofin.com/actualites-infras...  \n",
       "4  https://www.agenceecofin.com/actualites/2801-1...  "
      ]
     },
     "execution_count": 16,
     "metadata": {},
     "output_type": "execute_result"
    }
   ],
   "source": [
    "# Supprimer \"Agence Ecofin\" de la colonne 'text'\n",
    "articles_df['text'] = articles_df['text'].str.replace(r'\\(Agence Ecofin\\)', '', regex=True)\n",
    "\n",
    "articles_df.head()"
   ]
  },
  {
   "cell_type": "code",
   "execution_count": 17,
   "metadata": {},
   "outputs": [],
   "source": [
    "# Sauvegarde des résultats dans un fichier CSV\n",
    "articles_df.to_csv(\"articles_recent_ecofin2.csv\", index=False, encoding=\"utf-8\")"
   ]
  },
  {
   "cell_type": "markdown",
   "metadata": {},
   "source": [
    "### Quelques visualisations sur les données récupérées"
   ]
  },
  {
   "cell_type": "code",
   "execution_count": 18,
   "metadata": {},
   "outputs": [],
   "source": [
    "df=articles_df.copy()\n",
    "df['date'] = pd.to_datetime(df['date'], format='%d/%m/%Y')\n",
    " "
   ]
  },
  {
   "cell_type": "code",
   "execution_count": 19,
   "metadata": {},
   "outputs": [
    {
     "data": {
      "image/png": "[encoded data removed]",
      "text/plain": [
       "<Figure size 1000x500 with 1 Axes>"
      ]
     },
     "metadata": {},
     "output_type": "display_data"
    }
   ],
   "source": [
    "## Nombre d'articles par jour \n",
    "import matplotlib.pyplot as plt \n",
    "\n",
    "# Nombre d'articles par jour\n",
    "articles_per_day = df['date'].value_counts().sort_index()\n",
    "articles_per_day.plot(kind='bar', figsize=(10, 5))\n",
    "plt.title(\"Nombre d'articles par jour\")\n",
    "plt.xlabel(\"Date\")\n",
    "plt.ylabel(\"Nombre d'articles\")\n",
    "plt.show()\n"
   ]
  },
  {
   "cell_type": "markdown",
   "metadata": {},
   "source": []
  },
  {
   "cell_type": "markdown",
   "metadata": {},
   "source": [
    "# 🧠 Génération et Stockage des Embeddings avec FAISS 🚀  \n",
    "\n",
    "## 📌 Objectif  \n",
    "Cette section vise à **convertir les articles extraits en vecteurs numériques** à l'aide du modèle **Sentence Transformers** et à les stocker dans un **index FAISS** pour une recherche rapide et efficace.  \n",
    "\n",
    "## 🔹 Étapes clés  \n",
    "1. **Chargement des articles** depuis le fichier CSV.  \n",
    "2. **Création des embeddings** avec le modèle `all-MiniLM-L6-v2`.  \n",
    "3. **Indexation avec FAISS** pour une recherche vectorielle optimisée.  \n",
    "4. **Sauvegarde de l'index** pour une utilisation future.  \n"
   ]
  },
  {
   "cell_type": "code",
   "execution_count": 20,
   "metadata": {},
   "outputs": [
    {
     "name": "stdout",
     "output_type": "stream",
     "text": [
      "WARNING:tensorflow:From c:\\Users\\KONE\\Tensorflow\\Lib\\site-packages\\tf_keras\\src\\losses.py:2976: The name tf.losses.sparse_softmax_cross_entropy is deprecated. Please use tf.compat.v1.losses.sparse_softmax_cross_entropy instead.\n",
      "\n"
     ]
    },
    {
     "data": {
      "application/vnd.jupyter.widget-view+json": {
       "model_id": "9fe22ba0e6804338b8954497fdba6dba",
       "version_major": 2,
       "version_minor": 0
      },
      "text/plain": [
       "Batches:   0%|          | 0/6 [00:00<?, ?it/s]"
      ]
     },
     "metadata": {},
     "output_type": "display_data"
    }
   ],
   "source": [
    "from sentence_transformers import SentenceTransformer\n",
    "from langchain.vectorstores import FAISS\n",
    "from langchain.embeddings.base import Embeddings\n",
    "import pandas as pd\n",
    "from langchain.docstore.document import Document\n",
    "\n",
    "# Classe personnalisée pour Sentence Transformers\n",
    "class SentenceTransformersEmbeddings(Embeddings):\n",
    "    def __init__(self, model_name=\"all-MiniLM-L6-v2\"):\n",
    "        self.model = SentenceTransformer(model_name)\n",
    "    \n",
    "    def embed_documents(self, texts):\n",
    "        return self.model.encode(texts, show_progress_bar=True)\n",
    "    \n",
    "    def embed_query(self, text):\n",
    "        return self.model.encode(text, show_progress_bar=False)\n",
    "\n",
    "# Charger vos données\n",
    "articles_df = pd.read_csv(\"articles_recent_ecofin2.csv\")\n",
    "documents = [\n",
    "    Document(page_content=row['text'], metadata={\"title\": row['title'], \"url\": row['page_url'], \"date\": row['date']})\n",
    "    for _, row in articles_df.iterrows()\n",
    "]\n",
    "\n",
    "# Embeddings avec Sentence Transformers\n",
    "embeddings = SentenceTransformersEmbeddings()\n",
    "vector_store = FAISS.from_documents(documents, embeddings)\n",
    "\n",
    "# Sauvegarder l'index\n",
    "vector_store.save_local(\"faiss_index_sentence_transformers\")\n"
   ]
  },
  {
   "cell_type": "markdown",
   "metadata": {},
   "source": [
    "# 🔍 Recherche de Similarité dans l'Index FAISS 🧠  \n",
    "\n",
    "## 🎯 Objectif  \n",
    "Tester la **recherche vectorielle** en interrogeant l'index FAISS avec une requête spécifique et obtenir l'article le plus pertinent.  \n",
    "\n",
    "## ⚙️ Processus  \n",
    "1. **Définition d'une requête** (ex: `\"Le somalie et la sécurité Alimentaire\"`).  \n",
    "2. **Recherche des documents les plus proches** dans l'index FAISS.  \n",
    "3. **Affichage des résultats** (titre, URL, date et extrait du contenu).  \n"
   ]
  },
  {
   "cell_type": "code",
   "execution_count": 21,
   "metadata": {},
   "outputs": [
    {
     "name": "stdout",
     "output_type": "stream",
     "text": [
      "Résultat 1:\n",
      "Title: Comment la Turquie a obtenu un accord mettant fin aux tensions entre l’Ethiopie et la Somalie (rapport)\n",
      "URL: https://www.agenceecofin.com/actualites/2201-125138-comment-la-turquie-a-obtenu-un-accord-mettant-fin-aux-tensions-entre-l-ethiopie-et-la-somalie-rapport\n",
      "Date: 22/01/2025\n",
      "Contenu:  - L’accord, qui a permis d’éviter un nouveau conflit dans une zone par laquelle passent 90% des échanges commerciaux mondiaux effectués par conteneurs, renforce le soft power d’Ankara et lui permet de se positionner en tant qu'acteur mondial, ou tout au moins acteur majeur en Afrique. La Turquie a réussi, en décembre 2024, à résoudre par la voie diplomatique le conflit opposant l’Ethiopie à la Somalie, grâce notamment à ses relations privilégiées avec ces deux pays de la Corne de l’Afrique, souligne un rapport publié le mercredi 8 janvier par l’Institut de relations internationales et stratégiques (IRIS), think tank français spécialisé sur les questions géopolitiques et stratégiques.  Intitulé « La Turquie en médiateur : résolution du conflit entre la Somalie et l’Ethiopie », le rapport rappelle que les tensions entre Mogadiscio et Addis Abeba sont récurrentes pour diverses raisons remontant à l’indépendance de la Somalie en 1960, voire même avant. Le dernier différend en date qui a opposé les deux pays remonte au début de l’année 2024, lorsque l'Ethiopie a signé un accord avec le Somaliland selon lequel elle pourrait bénéficier d’une bande côtière de 20 km pendant cinquante ans, afin d’y installer un port commercial et une base navale, en échange de la reconnaissance de l’indépendance de la république autoproclamée qui a unilatéralement fait sécession de la Somalie en 1991. L’Ethiopie, sans accès à la mer depuis la sécession de l'Erythrée en 1991, considère cet accord qui n’a jamais été ratifié comme une opportunité stratégique, tandis que les Somaliens y voient une atteinte à leur intégrité territoriale et à leur souveraineté, une position partagée par la communauté internationale. Alors que les deux voisins d'Afrique de l'Est, qui se sont durement affrontés par deux fois au siècle dernier, ont catégoriquement refusé d’engager le moindre dialogue visant à apaiser les tensions jusqu’au mois de juillet 2024, ce nouveau conflit a fait peser une menace non seulement sur la stabilité de la région, mais également sur la sécurité de la mer Rouge, une voie maritime stratégique essentielle au commerce mondial. La Turquie est ensuite intervenue comme médiateur afin de régler ce différend à travers un dialogue indirect baptisé « processus d’Ankara », suite à la demande officielle de l'Ethiopie, en accord avec la Somalie. Le choix d’Ankara comme médiateur s’explique essentiellement par sa présence croissante sur le continent depuis le début du siècle en cours et ses relations très étroites avec les deux pays. La puissance émergente a établi une relation de confiance avec plusieurs pays africains, en capitalisant son passé non colonial et sa politique africaine marquée par une approche « gagnant-gagnant ». La Turquie entretient des relations privilégiées avec l’Ethiopie, où elle est reconnue par le gouvernement comme l'un de ses trois partenaires stratégiques, avec la Chine et l'Inde. Addis Abeba a également accueilli le premier bureau de l'Agence turque de coopération et de coordination (TIKA). Un prestige renforcé La croissance des échanges économiques témoigne de ces relations étroites. Alors qu'en 2003, le nombre d'entreprises turques investissant en Ethiopie était réduit à une seule entité employant 5 personnes, en 2019, les hommes d'affaires turcs étaient devenus le plus grand employeur du secteur privé dans le pays avec environ 200 entreprises. Le volume des échanges commerciaux bilatéraux est également passé d'environ 27 millions $ en 2000 à 405,8 millions en 2019. Les exportations turques de défense vers l'Ethiopie ont atteint 51 millions $ au cours des trois premiers mois de 2021, contre 203 000 $ durant la même période l'année précédente. Les célèbres drones TB2 ont été employés par l’Ethiopie sur le front tigréen lors de la guerre de 2020-2022. L’engagement protéiforme de la Turquie est également très perceptible en Somalie. Durant la sécheresse de 2011, qui avait fait du pays côtier de la Corne de l’Afrique l’archétype de l’Etat abandonné par la communauté internationale, la Turquie a fourni plus de 201 millions $ d’aide humanitaire. Ankara a aussi lancé plusieurs projets de développement, notamment la construction d’hôpitaux, la rénovation de l’aéroport international Aden Adde et du bâtiment de l’Assemblée nationale, tout en renforçant sa présence économique avec l’exploitation continue de l’aéroport et du port de Mogadiscio. Cet engagement a été renforcé par la visite du Premier ministre turc de l'époque, Recep Tayyip Erdoğan, à la mi-2011, première visite d’un dirigeant non africain depuis celle de George H. W. Bush en 1993. La Turquie gère aussi à Mogadiscio sa plus grande base militaire outre-mer, où elle forme l’armée somalienne. En outre, grâce à l’accord de coopération économique et de défense signé en 2024, elle s’est engagée à protéger les eaux territoriales somaliennes pendant 10 ans et à reconstruire les forces navales du pays. Parallèlement, Ankara renforce son influence énergétique avec un projet stratégique d’exploration pétrolière et gazière. Le rapport indique par ailleurs que « le processus d’Ankara », lancé en juillet 2024, s’est déroulé sous la forme de négociations indirectes entre l’Ethiopie et la Somalie à Ankara. Ces échanges ont permis d’établir un environnement propice à la réconciliation, en respectant les sensibilités et limites des parties sans interférer dans leurs affaires intérieures. Un tournant majeur a été constitué par les élections au Somaliland, qui se sont tenues le 13 novembre dernier. Ces élections ont mis fin à la présidence de Musa Bihi, signataire de l’accord de janvier 2024 avec l’Ethiopie, et ont porté au pouvoir Abdurrahman Mohamed Abdullahi, un ancien chef de l’opposition qui a permis de revoir l’accord maritime signé avec Addis Abeba. C’est ainsi qu’un accord mettant fin aux tensions entre les deux pays voisins a été annoncé le 11 décembre 2024. Les deux parties reconnaissent les avantages potentiels d’un accès sécurisé de l’Ethiopie à la mer. Elles respectent l’intégrité territoriale de la Somalie et s’engagent à entamer des « négociations techniques », sous la facilitation de la Turquie, d’ici fin février 2025. Cet accord constitue un indicateur de l'efficacité diplomatique de la Turquie en Afrique et un outil pour amplifier son soft power sur le continent. Walid Kéfi Edité par M.F. Vahid Codjia Lire aussi: 13/01/2025 - L'Ethiopie et la Somalie s’accordent sur une coopération renforcée 06/01/2025 - Ethiopie-Somalie : renouement des relations après des tensions diplomatiques 05/04/2024 - La Somalie expulse l'ambassadeur éthiopien sur fond de tensions concernant le Somaliland 08/01/2024 - La Somalie annonce une loi « annulant » le protocole d'accord entre l'Ethiopie et le Somaliland 23/12/2024 - Infrastructures, ressources naturelles, sécurité : comment la Turquie titille la Chine en Afrique (rapport) 20/09/2023 - Turquie-Afrique : les échanges commerciaux ont été multipliés par 8 entre 2003 et 2022, à 40,7 milliards $...\n",
      "\n",
      "\n"
     ]
    }
   ],
   "source": [
    "# Exemple de query\n",
    "query = \"Le somalie et la sécurité \"\n",
    "\n",
    "# Recherche dans l'index FAISS\n",
    "results = vector_store.similarity_search(query, k=1)\n",
    "\n",
    "# Affichage des résultats\n",
    "for i, res in enumerate(results):\n",
    "    print(f\"Résultat {i+1}:\")\n",
    "    print(f\"Title: {res.metadata.get('title')}\")\n",
    "    print(f\"URL: {res.metadata.get('url')}\")\n",
    "    print(f\"Date: {res.metadata.get('date')}\")\n",
    "    print(f\"Contenu: {res.page_content}...\")  # Afficher les 200 premiers caractères du contenu\n",
    "    print(\"\\n\")"
   ]
  },
  {
   "cell_type": "markdown",
   "metadata": {},
   "source": [
    "# 🧠 Initialisation des Embeddings avec Sentence Transformers 🚀  \n",
    "\n",
    "## 🎯 Objectif  \n",
    "Créer une classe personnalisée pour générer des **embeddings** de documents et de requêtes en utilisant **Sentence Transformers**.  \n",
    "\n",
    "## ⚙️ Processus  \n",
    "1. Définition d'une classe `SentenceTransformersEmbeddings` basée sur `Embeddings`.  \n",
    "2. Utilisation du modèle **all-MiniLM-L6-v2** pour encoder les textes.  \n",
    "3. Initialisation des embeddings pour une utilisation ultérieure.  \n",
    "\n"
   ]
  },
  {
   "cell_type": "code",
   "execution_count": 22,
   "metadata": {},
   "outputs": [],
   "source": [
    "from sentence_transformers import SentenceTransformer\n",
    "from langchain.embeddings.base import Embeddings\n",
    "\n",
    "# Définir une classe personnalisée pour les embeddings\n",
    "class SentenceTransformersEmbeddings(Embeddings):\n",
    "    def __init__(self, model_name=\"all-MiniLM-L6-v2\"):\n",
    "        self.model = SentenceTransformer(model_name)\n",
    "    \n",
    "    def embed_documents(self, texts):\n",
    "        return self.model.encode(texts, show_progress_bar=True)\n",
    "    \n",
    "    def embed_query(self, text):\n",
    "        return self.model.encode(text, show_progress_bar=False)\n",
    "\n",
    "# Initialiser les embeddings\n",
    "embeddings = SentenceTransformersEmbeddings()\n"
   ]
  },
  {
   "cell_type": "code",
   "execution_count": 23,
   "metadata": {},
   "outputs": [
    {
     "name": "stdout",
     "output_type": "stream",
     "text": [
      "Nombre de documents dans l'index : 192\n"
     ]
    }
   ],
   "source": [
    "\n",
    "from langchain.vectorstores import FAISS\n",
    "\n",
    "# Charger l'index FAISS avec désérialisation autorisée\n",
    "vector_store = FAISS.load_local(\n",
    "    \"faiss_index_sentence_transformers\", \n",
    "    embeddings, \n",
    "    allow_dangerous_deserialization=True\n",
    ")\n",
    "\n",
    "# Vérifier le nombre de documents indexés\n",
    "print(f\"Nombre de documents dans l'index : {vector_store.index.ntotal}\")"
   ]
  },
  {
   "cell_type": "markdown",
   "metadata": {},
   "source": [
    "# 🔑 Configuration de l'API Cohere & Initialisation du Modèle 🤖  \n",
    "\n",
    "## 🚀 Objectif  \n",
    "Configurer et initialiser **Cohere** pour générer des réponses conversationnelles via **LangChain**.  \n",
    "\n",
    "## ⚙️ Étapes  \n",
    "1. Vérification et saisie sécurisée de la **clé API**.  \n",
    "2. Chargement du modèle **Command-R Plus** de **Cohere**.  \n",
    "3. Test du modèle avec une première requête.  \n"
   ]
  },
  {
   "cell_type": "code",
   "execution_count": 24,
   "metadata": {},
   "outputs": [],
   "source": [
    "\n",
    "import os\n",
    "from langchain_cohere import ChatCohere\n",
    "\n",
    "from dotenv import load_dotenv\n",
    "\n",
    "\n",
    "# Charger les variables d'environnement\n",
    "load_dotenv(\"config.env\")\n",
    "\n",
    "# Initialiser Cohere\n",
    "cohere_api_key = os.getenv(\"COHERE_API_KEY\")\n",
    "model = ChatCohere(model=\"command-r-plus\", cohere_api_key=cohere_api_key)"
   ]
  },
  {
   "cell_type": "code",
   "execution_count": 25,
   "metadata": {},
   "outputs": [
    {
     "data": {
      "text/plain": [
       "AIMessage(content='Hello! How can I help you today?', additional_kwargs={'id': '5f67d451-eb88-4fad-9b39-49779cd72348', 'finish_reason': 'COMPLETE', 'content': 'Hello! How can I help you today?', 'token_count': {'input_tokens': 197.0, 'output_tokens': 9.0}}, response_metadata={'id': '5f67d451-eb88-4fad-9b39-49779cd72348', 'finish_reason': 'COMPLETE', 'content': 'Hello! How can I help you today?', 'token_count': {'input_tokens': 197.0, 'output_tokens': 9.0}}, id='run-317f3d5e-2dfe-435f-bde5-4fc459319141-0', usage_metadata={'input_tokens': 197, 'output_tokens': 9, 'total_tokens': 206})"
      ]
     },
     "execution_count": 25,
     "metadata": {},
     "output_type": "execute_result"
    }
   ],
   "source": [
    "model.invoke(\"Hello, world!\")"
   ]
  },
  {
   "cell_type": "code",
   "execution_count": 26,
   "metadata": {},
   "outputs": [
    {
     "name": "stdout",
     "output_type": "stream",
     "text": [
      "Index FAISS chargé avec succès.\n"
     ]
    }
   ],
   "source": [
    "from langchain.vectorstores import FAISS\n",
    "\n",
    "# Charger l'index sauvegardé\n",
    "vector_store = FAISS.load_local(\"faiss_index_sentence_transformers\", embeddings,allow_dangerous_deserialization=True)\n",
    "print(\"Index FAISS chargé avec succès.\")\n"
   ]
  },
  {
   "cell_type": "code",
   "execution_count": 27,
   "metadata": {},
   "outputs": [
    {
     "name": "stdout",
     "output_type": "stream",
     "text": [
      "Titre: Café : les prix de référence de l’arabica ont atteint de nouveaux sommets\n",
      "Date: 24/01/2025\n",
      "URL: https://www.agenceecofin.com/actualites-agro/2401-125226-cafe-les-prix-de-reference-de-l-arabica-ont-atteint-de-nouveaux-sommets\n",
      "Contenu:  - Les prix du café arabica se sont négociés à des niveaux élevés sur l’ensemble de l’année 2024. Alors que des incertitudes planent encore sur les prévisions de récolte au Brésil en 2025, cette dynamique haussière se poursuit en 2025. Le prix de référence du café arabica a atteint 3,49 $ la livre s...\n",
      "\n"
     ]
    }
   ],
   "source": [
    "def get_relevant_documents(query, top_k=1):\n",
    "    return vector_store.similarity_search(query, k=top_k)\n",
    "\n",
    "# Exemple de requête\n",
    "query = \"Quels sont les facteurs influençant les prix du café en 2025 ?\"\n",
    "relevant_docs = get_relevant_documents(query)\n",
    "\n",
    "# Afficher les résultats\n",
    "for doc i n relevant_docs:\n",
    "    print(f\"Titre: {doc.metadata['title']}\")\n",
    "    print(f\"Date: {doc.metadata['date']}\")\n",
    "    print(f\"URL: {doc.metadata['url']}\")\n",
    "    print(f\"Contenu: {doc.page_content[:300]}...\\n\")\n"
   ]
  },
  {
   "cell_type": "markdown",
   "metadata": {},
   "source": [
    "# 📌 Visualisation du Contexte Passé au Modèle 🧠  \n",
    "\n",
    "## 🎯 Objectif  \n",
    "Cette implémentation permet de **former un contexte** à partir des documents les plus pertinents avant d'envoyer une requête au modèle. De plus, elle affiche **le prompt final** pour mieux comprendre les informations fournies au modèle.  \n",
    "\n",
    "## 🏗️ Étapes  \n",
    "1. **Recherche du document le plus pertinent** pour la question.  \n",
    "2. **Construction du contexte** à partir de ce document.  \n",
    "3. **Affichage du prompt final** avant son passage au modèle.  \n",
    "4. **Génération d'une réponse** basée sur le contexte fourni.  \n",
    "\n",
    "## 📝 Exemple  \n",
    "🔍 **Question** : \"Quels sont les facteurs influençant les prix du café en 2025 ?\"  \n",
    "📜 **Contexte affiché** : *[Texte extrait des documents]*  \n",
    "💬 **Réponse générée** : *[Réponse du modèle]*  \n"
   ]
  },
  {
   "cell_type": "code",
   "execution_count": 37,
   "metadata": {},
   "outputs": [
    {
     "name": "stdout",
     "output_type": "stream",
     "text": [
      "\n",
      "--- Prompt Final Passé au Modèle ---\n",
      "\n",
      "Contexte:\n",
      " - Les prix du café arabica se sont négociés à des niveaux élevés sur l’ensemble de l’année 2024. Alors que des incertitudes planent encore sur les prévisions de récolte au Brésil en 2025, cette dynamique haussière se poursuit en 2025. Le prix de référence du café arabica a atteint 3,49 $ la livre sur l’Intercontinental Exchange (ICE) le jeudi 23 janvier dernier, signant un record historique avant de clôturer la journée à 3,44 $. Cette performance marque une hausse de plus de 80 % depuis le 2 janvier 2024, date à laquelle la fève s’échangeait à 1,9 $ la livre sur l’ICE.  Évolution des prix de l’arabica depuis avril 2023 Cette dynamique haussière des cours de l’arabica est à mettre en lien avec les doutes persistants sur l’offre d’arabica en provenance du Brésil, principal producteur comptant pour plus de 45 % de l’offre mondiale. Dans des propos rapportés par Reuters, Judith Ganes, analyste principale des matières premières agricoles chez J Ganes Consulting, entreprise spécialisée dans l’analyse des marchés des matières premières, indique que le spectre de la sécheresse qui a réduit les récoltes dans le pays d’Amérique du Sud en 2024 devrait se poursuivre en 2025. « L’offre sera limitée, il n’y a pas d’autre issue, le climat s’est récemment amélioré au Brésil, mais cela ne changera pas la situation ; le nombre de cerises reste le même sur les caféiers », souligne la responsable. Quoi qu’il en soit, cette conjoncture sur le marché du café est favorable pour les pays exportateurs de la fève tels que l’Éthiopie, leader en Afrique, qui vise par exemple des recettes d’exportations de 2 milliards $, en 2024/2025. Le 20 janvier dernier, le pays des négus a déclaré avoir engrangé 908 millions $ grâce à ses exportations de café sur le premier semestre de son exercice fiscal de 2024/2025. Stéphanas Assocle Édité par Wilfried ASSOGBA Lire aussi: 14/01/2025 - L’Algérie veut augmenter son approvisionnement en café depuis l’Ouganda 07/01/2025 - Cacao et café : quand la météo fait flamber les cours en 2024\n",
      "\n",
      " - Le marché mondial du cacao a été secoué avec les niveaux sans précédent atteints par les cours. Cette flambée a eu impact global sur toute la chaîne de valeur mondiale du produit. Les chiffres sur la transformation mondiale de cacao durant le dernier trimestre 2024 sont tombés la semaine dernière. Et comme prévu, ils sont en baisse. En Europe, les broyages de fèves ont atteint 331 853 tonnes entre octobre et décembre 2024, soit le plus bas niveau depuis 2015. The Cocoa Grind Stats for Q4 2024 have been published on our website. From next month onwards, the Grind Stats will be only announced on our LinkedIn page. Download the Q4 2024 report here: https://t.co/hJcgI8h3ae#cocoa #grindstats #eurococoa #Q42024 #cocoagrinding Au total, les transformateurs auront traité 1,41 million de tonnes de fèves sur l’ensemble de l’année écoulée selon le dernier rapport de l’Association européenne du cacao (ECA). Ce stock représente le volume le plus faible depuis 2021 et signe la seconde année consécutive de baisse des opérations sur le vieux continent, principale région de transformation et de consommation du cacao. Du côté de l’Asie, l’heure n’est pas non plus à l’euphorie. D’après les données de la Cocoa Association of Asia (CAA), seulement 210 111 tonnes de cacao ont été broyées durant le dernier quart de l’année, le niveau le plus bas depuis 2019. En Amérique du Nord, 102 761 tonnes de fèves ont été traitées sur le dernier trimestre, une baisse de 1,16 % par rapport à l’année dernière. Globalement, ces chiffres reflètent la morosité de la demande de cacao à l’échelle mondiale avec la flambée des prix de la matière première de plus de 160 % qui a augmenté les coûts opérationnels pour les industriels dans un contexte d’engouement limité des consommateurs aussi bien en Europe qu’en Amérique du Nord. Cette situation pourrait encore se prolonger cette année. Si les fabricants de chocolat s’appuient en effet sur les marchés futurs pour se protéger du risque de hausse des prix et payent à l’avance du cacao sur 6 à 12 mois, de nombreux analystes indiquent que les contrats sécurisés au début de 2024 à bas prix sont déjà arrivés à échéance. Une telle situation devrait forcer les compagnies à s’adapter au niveau actuel des cours qui depuis le 9 décembre dernier ne sont pas descendus sous la barre des 10 000 $ la tonne démarrant même l’année 2025 à 11 238 $, soit 3 fois plus que le tarif enregistré un an plus tôt. Sur le marché, certains chocolatiers comme le groupe zurichois Lindt & Sprüngli ont fait bien plus que de résister à la morosité ambiante. L’entreprise a pu augmenter de 5 % les prix de vente de ses produits chocolatés afin de faire face à l’envolée des cours du cacao. Cette démarche lui a permis de faire progresser ses recettes de 5,1 % à 5,47 milliards de francs suisses (environ 6 milliards $) durant l’année écoulée. Pour l’année 2025, la compagnie entend encore procéder à un relèvement de ses prix. Se confiant à l’Agence Ecofin, Julia Buech, analyste senior chez le groupe néerlandais Rabobank indique que globalement, les ventes de chocolat devraient stagner voire décliner en Europe durant la campagne 2024/2025 avec la stratégie des industriels consistant à répercuter la hausse des prix de la matière première sur les tarifs de vente des produits de chocolat. « 2025 sera une année très difficile pour l’industrie du chocolat », a indiqué à l’agence de presse économique et financière suisse AWP, Jean-Philippe Bertschy, analyste chez la banque de gestion suisse Vontobel. Espoir Olodo Édité par Wilfried ASSOGBA Lire aussi : 20/01/2025 - Côte d’Ivoire : la BNI obtient un financement de 103 millions $ pour la filière cacao\n",
      "\n",
      " - Les autorités marocaines intensifient leurs efforts pour sécuriser les besoins énergétiques du royaume en s’appuyant notamment sur une politique qui met l’accent sur l’exploitation du potentiel gazier. Le Maroc devrait franchir un nouveau cap vers la consolidation de son autonomie énergétique grâce à l’installation d’une centrale électrique à gaz de 990 mégawatts prévue dans le nord du pays. Un projet dont le coût est estimé à 420 millions d’euros (environ 440 millions de dollars). Cette information a été rendue publique vendredi 24 janvier par l’Autorité marocaine du Marché des Capitaux (AMMC) qui a livré les détails financiers de l’initiative. Ils impliquent une contribution de l’Office national de l’eau et de l’électricité (ONEE) à hauteur de 20 %. Quant aux 80 % restants, leur financement sera d’une part, assuré par des prêts du groupe bancaire local Attijariwafa Bank et de la Banque africaine de développement (BAD), en plus de deux fonds de titrisation, FT Nord Energy et FT Flexenergy, d’autre part. Aucun détail n’a été fourni concernant le calendrier de construction de l’installation qui sera principalement alimentée en gaz naturel via un gazoduc utilisé pour importer le combustible depuis l’Espagne, avec le diesel servant d’alimentation de secours. L’initiative soutient la volonté de Rabat d’améliorer son autonomie énergétique en misant sur le développement d’infrastructures locales et en diversifiant ses sources d’approvisionnement en énergie, notamment depuis la rupture de l’accord gazier avec l’Algérie en 2021. Depuis 2009, le Maroc travaille activement à réduire sa dépendance aux énergies fossiles et à atteindre 52 % d’énergies renouvelables dans sa capacité installée d’ici la fin de la décennie. Abdel-Latif Boureima Édité par Wilfried ASSOGBA Lire aussi : 10/07/2024 - Comment, en 25 ans, Mohammed VI a transformé l’économie du Maroc (2e partie)\n",
      "\n",
      "Question: Quels sont les facteurs influençant les prix du café en 2025 ?\n",
      "\n",
      "Réponse:\n",
      "\n",
      "-----------------------------------\n",
      "\n",
      "Réponse générée :\n",
      "Les prix du café arabica ont atteint des niveaux record en 2025, influencés principalement par les incertitudes entourant la récolte au Brésil, qui est le principal producteur de café arabica au monde. Les doutes quant à l'offre d'arabica en provenance du Brésil, en raison de la persistance de la sécheresse dans le pays, ont contribué à la dynamique haussière des cours de l'arabica.\n",
      "\n",
      "L'analyste Judith Ganes de J Ganes Consulting a souligné que l'offre de café serait limitée en raison de l'impact de la sécheresse sur les récoltes au Brésil en 2024 et 2025. Les prévisions indiquent que le climat récent plus clément au Brésil ne compensera pas les effets des sécheresses précédentes sur le nombre de cerises présentes sur les caféiers.\n",
      "\n",
      "Par conséquent, les prix du café arabica ont augmenté de plus de 80 % depuis le 2 janvier 2024, atteignant un record historique de 3,49 $ la livre sur l'Intercontinental Exchange (ICE) le 23 janvier 2025.\n",
      "\n",
      "Cette situation de prix élevés est favorable pour les pays exportateurs de café, tels que l'Éthiopie, qui visent à augmenter leurs recettes d'exportation de café.\n",
      "\n",
      "En résumé, les facteurs clés influençant les prix du café en 2025 sont les incertitudes entourant la récolte au Brésil en raison de la sécheresse, ainsi que la forte demande et l'offre limitée de café arabica sur le marché mondial.\n",
      "\n",
      "🔗 Voir plus : https://www.agenceecofin.com/actualites-agro/2401-125226-cafe-les-prix-de-reference-de-l-arabica-ont-atteint-de-nouveaux-sommets\n"
     ]
    }
   ],
   "source": [
    "from langchain.vectorstores import FAISS\n",
    "\n",
    "\n",
    "# Fonction pour récupérer les documents pertinents\n",
    "def get_relevant_documents(query, top_k=1):\n",
    "    return vector_store.similarity_search(query, k=top_k)\n",
    "\n",
    "# Fonction pour former le contexte\n",
    "def form_context_from_documents(query, top_k=1):\n",
    "    # Récupérer les documents pertinents\n",
    "    relevant_docs = get_relevant_documents(query, top_k=top_k)\n",
    "    if not relevant_docs:\n",
    "        return None, None\n",
    "\n",
    "    # Former le contexte avec uniquement le contenu\n",
    "    context = \"\\n\\n\".join(doc.page_content for doc in relevant_docs)\n",
    "    return context, relevant_docs\n",
    "\n",
    "# Fonction pour générer une réponse\n",
    "def generate_response(user_question, top_k=1):\n",
    "    # Former le contexte\n",
    "    context, relevant_docs = form_context_from_documents(user_question, top_k)\n",
    "    if not context:\n",
    "        return \"Je n'ai pas trouvé suffisamment d'informations pertinentes pour répondre à votre question.\"\n",
    "\n",
    "    # Préparer le prompt pour le modèle\n",
    "    prompt = f\"Contexte:\\n{context}\\n\\nQuestion: {user_question}\\n\\nRéponse:\"\n",
    "\n",
    "    # Afficher le prompt final\n",
    "    print(\"\\n--- Prompt Final Passé au Modèle ---\\n\")\n",
    "    print(prompt)\n",
    "    print(\"\\n-----------------------------------\\n\")\n",
    "\n",
    "    # Générer une réponse avec le modèle\n",
    "    response = model.invoke(prompt)  # Assure-toi que `model` est bien défini\n",
    "    answer = response.content if response else \"Je n'ai pas pu générer de réponse.\"\n",
    "\n",
    "    # Ajouter le lien de l'article le plus pertinent\n",
    "    article_link = relevant_docs[0].metadata[\"url\"] if relevant_docs else None\n",
    "    if article_link:\n",
    "        answer += f\"\\n\\n🔗 Voir plus : {article_link}\"\n",
    "\n",
    "    return answer\n",
    "\n",
    "# Exemple d'utilisation\n",
    "user_question = \"Quels sont les facteurs influençant les prix du café en 2025 ?\"\n",
    "response = generate_response(user_question, top_k=3)\n",
    "print(\"Réponse générée :\")\n",
    "print(response)\n"
   ]
  }
 ],
 "metadata": {
  "kernelspec": {
   "display_name": "Tensorflow",
   "language": "python",
   "name": "python3"
  },
  "language_info": {
   "codemirror_mode": {
    "name": "ipython",
    "version": 3
   },
   "file_extension": ".py",
   "mimetype": "text/x-python",
   "name": "python",
   "nbconvert_exporter": "python",
   "pygments_lexer": "ipython3",
   "version": "3.11.9"
  }
 },
 "nbformat": 4,
 "nbformat_minor": 2
}
